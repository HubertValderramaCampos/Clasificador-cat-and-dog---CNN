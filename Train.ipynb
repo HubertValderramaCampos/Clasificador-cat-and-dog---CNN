{
 "cells": [
  {
   "cell_type": "code",
   "execution_count": 1,
   "id": "df96647b-66b7-4d89-9772-9674d9ae56a3",
   "metadata": {},
   "outputs": [],
   "source": [
    "import pandas as pd \n",
    "import numpy as np\n",
    "import matplotlib.pyplot as plt\n",
    "import os\n",
    "import keras\n",
    "from tensorflow.python.keras.preprocessing.image import ImageDataGenerator\n",
    "from tensorflow.python.keras.applications.mobilenet import preprocess_input\n",
    "from tensorflow.python.keras import optimizers\n",
    "from tensorflow.python.keras.models import Sequential\n",
    "from tensorflow.python.keras.layers import Dropout, Flatten, Dense, Activation\n",
    "from tensorflow.python.keras.layers import Convolution2D, MaxPooling2D\n",
    "from tensorflow.python.keras import backend as k\n",
    "from keras.preprocessing import image\n",
    "from mlxtend.evaluate import confusion_matrix\n",
    "import matplotlib.image as mpimg"
   ]
  },
  {
   "cell_type": "code",
   "execution_count": 2,
   "id": "f43612b6-8178-4b6a-aa54-03c1a7661594",
   "metadata": {},
   "outputs": [],
   "source": [
    "data_train = \"datos/entrenamiento\" \n",
    "data_test =  \"datos/validacion\""
   ]
  },
  {
   "cell_type": "markdown",
   "id": "422b9316-599a-45f4-9f40-59e7caa28516",
   "metadata": {},
   "source": [
    "### Definimos parametros de la cnn"
   ]
  },
  {
   "cell_type": "code",
   "execution_count": 3,
   "id": "7399ad82-cd7c-4e1b-8690-e2c866828535",
   "metadata": {},
   "outputs": [],
   "source": [
    "epoch = 30\n",
    "longitud, altura = 200, 200\n",
    "batch_size = 32\n",
    "filtros_conv1 = 8\n",
    "filtros_conv2 = 16\n",
    "filtros_conv3 = 32\n",
    "tamaño_filtro1 = (8, 8)\n",
    "tamaño_filtro2 = (4, 4)\n",
    "tamaño_filtro3 = (2, 2)\n",
    "max_pol = (2, 2)\n",
    "clase = 2\n"
   ]
  },
  {
   "cell_type": "markdown",
   "id": "c8da750f-c4f2-444d-905d-57b6b9b29b12",
   "metadata": {},
   "source": [
    "### Preprocesamiento de la data"
   ]
  },
  {
   "cell_type": "code",
   "execution_count": 4,
   "id": "6763a29d-daee-48ea-b6b0-d7a1020f57de",
   "metadata": {},
   "outputs": [
    {
     "name": "stdout",
     "output_type": "stream",
     "text": [
      "Found 12034 images belonging to 2 classes.\n",
      "Found 2935 images belonging to 2 classes.\n",
      "{'gato': 0, 'perro': 1}\n"
     ]
    }
   ],
   "source": [
    "entrenamiento_datagen = ImageDataGenerator(\n",
    "    rescale = 1./255,\n",
    "    shear_range = 0.3,\n",
    "    zoom_range = 0.3,\n",
    "    horizontal_flip = True)\n",
    "validacion_datagen = ImageDataGenerator(1./255)\n",
    "imagen_entrenamiento = entrenamiento_datagen.flow_from_directory(\n",
    "   data_train,\n",
    "    target_size = (altura, longitud),\n",
    "    batch_size = batch_size,\n",
    "    class_mode = 'categorical')\n",
    "imagen_validacion = entrenamiento_datagen.flow_from_directory(\n",
    "   data_test,\n",
    "    target_size = (altura, longitud),\n",
    "    batch_size = batch_size,\n",
    "    class_mode = 'categorical')\n",
    "print(imagen_entrenamiento.class_indices)"
   ]
  },
  {
   "cell_type": "code",
   "execution_count": 5,
   "id": "ac655a93-eb83-4478-b789-610459c88bdc",
   "metadata": {},
   "outputs": [],
   "source": [
    "pasos_entrenamiento = imagen_entrenamiento.n//imagen_entrenamiento.batch_size\n",
    "pasos_validacion = imagen_validacion.n//imagen_validacion.batch_size"
   ]
  },
  {
   "cell_type": "markdown",
   "id": "a22e055d-631e-4562-8af1-1349cd5acb7a",
   "metadata": {},
   "source": [
    "## Creación de la red convolucional"
   ]
  },
  {
   "cell_type": "markdown",
   "id": "c1f6d4a1-6e69-4783-b4f7-f0afc7990fb2",
   "metadata": {},
   "source": [
    "### Creación de las capas"
   ]
  },
  {
   "cell_type": "code",
   "execution_count": 6,
   "id": "b618ba00-37b1-4e8a-8f1d-abdb7e740e6b",
   "metadata": {},
   "outputs": [],
   "source": [
    "cnn = Sequential()\n",
    "cnn.add(Convolution2D(filtros_conv1, tamaño_filtro1, padding = 'same', input_shape = (longitud, altura, 3), activation = 'relu'))\n",
    "cnn.add(MaxPooling2D(pool_size = max_pol))\n",
    "cnn.add(Convolution2D(filtros_conv2, tamaño_filtro2, padding = 'same'))\n",
    "cnn.add(MaxPooling2D(pool_size = max_pol))\n",
    "cnn.add(Convolution2D(filtros_conv3, tamaño_filtro3, padding = 'same'))\n",
    "cnn.add(Flatten())\n",
    "\n",
    "cnn.add(Dense(220, activation = 'relu'))\n",
    "cnn.add(Dense(120, activation = 'relu'))\n",
    "cnn.add(Dropout(0.5))\n",
    "cnn.add(Dense(clase, activation = 'sigmoid'))"
   ]
  },
  {
   "cell_type": "markdown",
   "id": "cd70edbc-e23e-4549-9dc5-936a92e8d433",
   "metadata": {},
   "source": [
    "### Compilacion"
   ]
  },
  {
   "cell_type": "code",
   "execution_count": null,
   "id": "be6837e5-7f16-4d02-be3e-8ae7b6f9f3e4",
   "metadata": {},
   "outputs": [
    {
     "name": "stderr",
     "output_type": "stream",
     "text": [
      "C:\\Users\\Jose1\\anaconda3\\lib\\site-packages\\tensorflow\\python\\keras\\engine\\training.py:1969: UserWarning: `Model.fit_generator` is deprecated and will be removed in a future version. Please use `Model.fit`, which supports generators.\n",
      "  warnings.warn('`Model.fit_generator` is deprecated and '\n"
     ]
    },
    {
     "name": "stdout",
     "output_type": "stream",
     "text": [
      "Epoch 1/30\n",
      "376/376 [==============================] - 252s 669ms/step - loss: 0.7331 - accuracy: 0.5674 - val_loss: 0.6959 - val_accuracy: 0.5508\n",
      "Epoch 2/30\n",
      "376/376 [==============================] - 242s 643ms/step - loss: 0.6409 - accuracy: 0.6266 - val_loss: 0.6426 - val_accuracy: 0.6288\n",
      "Epoch 3/30\n",
      "376/376 [==============================] - 296s 786ms/step - loss: 0.6201 - accuracy: 0.6526 - val_loss: 0.5904 - val_accuracy: 0.6916\n",
      "Epoch 4/30\n",
      "376/376 [==============================] - 263s 699ms/step - loss: 0.6062 - accuracy: 0.6685 - val_loss: 0.5951 - val_accuracy: 0.7054\n",
      "Epoch 5/30\n",
      "376/376 [==============================] - 250s 666ms/step - loss: 0.5767 - accuracy: 0.7035 - val_loss: 0.5779 - val_accuracy: 0.7012\n",
      "Epoch 6/30\n",
      "376/376 [==============================] - 240s 638ms/step - loss: 0.5580 - accuracy: 0.7169 - val_loss: 0.5774 - val_accuracy: 0.7050\n",
      "Epoch 7/30\n",
      "376/376 [==============================] - 237s 630ms/step - loss: 0.5451 - accuracy: 0.7250 - val_loss: 0.5135 - val_accuracy: 0.7448\n",
      "Epoch 8/30\n",
      "376/376 [==============================] - 237s 631ms/step - loss: 0.5316 - accuracy: 0.7415 - val_loss: 0.5155 - val_accuracy: 0.7507\n",
      "Epoch 9/30\n",
      "376/376 [==============================] - 235s 625ms/step - loss: 0.5254 - accuracy: 0.7410 - val_loss: 0.5515 - val_accuracy: 0.7198\n",
      "Epoch 10/30\n",
      "376/376 [==============================] - 234s 621ms/step - loss: 0.5251 - accuracy: 0.7465 - val_loss: 0.5326 - val_accuracy: 0.7291\n",
      "Epoch 11/30\n",
      "376/376 [==============================] - 257s 683ms/step - loss: 0.5243 - accuracy: 0.7407 - val_loss: 0.4933 - val_accuracy: 0.7651\n",
      "Epoch 12/30\n",
      "376/376 [==============================] - 281s 746ms/step - loss: 0.5081 - accuracy: 0.7598 - val_loss: 0.4875 - val_accuracy: 0.7685\n",
      "Epoch 13/30\n",
      "376/376 [==============================] - 253s 674ms/step - loss: 0.5391 - accuracy: 0.7295 - val_loss: 0.5209 - val_accuracy: 0.7596\n",
      "Epoch 14/30\n",
      "376/376 [==============================] - 299s 796ms/step - loss: 0.5064 - accuracy: 0.7585 - val_loss: 0.4723 - val_accuracy: 0.7771\n",
      "Epoch 15/30\n",
      "376/376 [==============================] - 269s 715ms/step - loss: 0.5094 - accuracy: 0.7571 - val_loss: 0.5174 - val_accuracy: 0.7531\n",
      "Epoch 16/30\n",
      "376/376 [==============================] - 250s 665ms/step - loss: 0.5030 - accuracy: 0.7595 - val_loss: 0.4871 - val_accuracy: 0.7682\n",
      "Epoch 17/30\n",
      "376/376 [==============================] - 250s 665ms/step - loss: 0.5005 - accuracy: 0.7602 - val_loss: 0.4562 - val_accuracy: 0.7898\n",
      "Epoch 18/30\n",
      "376/376 [==============================] - 274s 729ms/step - loss: 0.4914 - accuracy: 0.7661 - val_loss: 0.4755 - val_accuracy: 0.7809\n",
      "Epoch 19/30\n",
      "376/376 [==============================] - 292s 774ms/step - loss: 0.4891 - accuracy: 0.7685 - val_loss: 0.4657 - val_accuracy: 0.7737\n",
      "Epoch 20/30\n",
      " 28/376 [=>............................] - ETA: 3:35 - loss: 0.4921 - accuracy: 0.7533"
     ]
    }
   ],
   "source": [
    "cnn.compile(loss = 'categorical_crossentropy',\n",
    "           optimizer = 'adam',\n",
    "           metrics = ['accuracy'])\n",
    "history = cnn.fit_generator(\n",
    "    imagen_entrenamiento,\n",
    "    steps_per_epoch = pasos_entrenamiento,\n",
    "    epochs = epoch,\n",
    "    validation_data = imagen_validacion,\n",
    "    validation_steps = pasos_validacion\n",
    "    )\n",
    "#Prueba 3: 0.8451 \n",
    "#Prueba 4: 0.8468"
   ]
  },
  {
   "cell_type": "code",
   "execution_count": null,
   "id": "9dc4490d-6a38-490b-8726-43f09e20fc03",
   "metadata": {},
   "outputs": [],
   "source": [
    "dir='./modelo'"
   ]
  },
  {
   "cell_type": "code",
   "execution_count": null,
   "id": "f9891ac2-a71a-438a-b9ac-7bf9cb5a1dce",
   "metadata": {},
   "outputs": [],
   "source": [
    "if not os.path.exists(dir):\n",
    "    os.mkdir(dir)\n",
    "cnn.save('./modelo/modelo5.h5')\n",
    "cnn.save_weights('./modelo/pesos5.h5')"
   ]
  },
  {
   "cell_type": "code",
   "execution_count": null,
   "id": "a7c02fdf-af4c-48ef-ae2a-0091937eef1c",
   "metadata": {},
   "outputs": [],
   "source": [
    "history_dict = history.history\n",
    "print(history_dict.keys())"
   ]
  },
  {
   "cell_type": "code",
   "execution_count": null,
   "id": "530620d8-80d2-4785-aeb3-2e0528fd6abb",
   "metadata": {},
   "outputs": [],
   "source": [
    "plt.plot(history.history['accuracy'])\n",
    "plt.plot(history.history['val_accuracy'])\n",
    "plt.title('Precision del modelo')\n",
    "plt.ylabel('Precision')\n",
    "plt.xlabel('epocas')\n",
    "plt.legend(['Entrenamiento', 'test'], loc='upper left')\n",
    "plt.show()\n",
    "# hacemos las grafica 2 perdidas\n",
    "plt.plot(history.history['loss'])\n",
    "plt.plot(history.history['val_loss'])\n",
    "plt.title('Perdidas del modelo')\n",
    "plt.ylabel('perdidas')\n",
    "plt.xlabel('epocas')\n",
    "plt.legend(['Entrenamiento', 'test'], loc='upper left')\n",
    "plt.show()"
   ]
  },
  {
   "cell_type": "code",
   "execution_count": null,
   "id": "272d7896-b8f2-44ff-b60d-f6a09151e0dd",
   "metadata": {},
   "outputs": [],
   "source": []
  }
 ],
 "metadata": {
  "kernelspec": {
   "display_name": "Python 3",
   "language": "python",
   "name": "python3"
  },
  "language_info": {
   "codemirror_mode": {
    "name": "ipython",
    "version": 3
   },
   "file_extension": ".py",
   "mimetype": "text/x-python",
   "name": "python",
   "nbconvert_exporter": "python",
   "pygments_lexer": "ipython3",
   "version": "3.8.8"
  },
  "toc-showtags": false
 },
 "nbformat": 4,
 "nbformat_minor": 5
}
