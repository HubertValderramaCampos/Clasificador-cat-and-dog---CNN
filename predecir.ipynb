{
 "cells": [
  {
   "cell_type": "code",
   "execution_count": 1,
   "id": "c59119b5-d783-4d9e-a868-e63b22c6f206",
   "metadata": {},
   "outputs": [],
   "source": [
    "from keras.preprocessing.image import load_img, img_to_array\n",
    "from keras.models import load_model\n",
    "import numpy as np\n",
    "import matplotlib.pyplot as plt\n",
    "import matplotlib.image as img"
   ]
  },
  {
   "cell_type": "code",
   "execution_count": 2,
   "id": "b4d80ec5-80c2-4174-b12f-90514c769a74",
   "metadata": {},
   "outputs": [],
   "source": [
    "longitud, altura = 120, 120\n",
    "modelo = './modelo/modelo4.h5'\n",
    "pesos = './modelo/pesos4.h5'\n",
    "cnn = load_model(modelo)\n",
    "cnn.load_weights(pesos)"
   ]
  },
  {
   "cell_type": "code",
   "execution_count": 8,
   "id": "4d8295ff-71a5-4c35-9fe0-3b85b0e507d1",
   "metadata": {},
   "outputs": [],
   "source": [
    "def predecir(file):\n",
    "    x = load_img(file, target_size=(longitud, altura))\n",
    "    x = img_to_array(x)\n",
    "    x = np.expand_dims(x, axis=0)\n",
    "    arreglo = cnn.predict(x)\n",
    "    resultado = arreglo[0]\n",
    "    respuesta = np.argmax(resultado)\n",
    "    image = img.imread(file)\n",
    "    plt.imshow(image)\n",
    "    plt.show()\n",
    "    print(\"Con 85% de presición: \")\n",
    "    print(\"--------------------\")\n",
    "    if respuesta == 1:\n",
    "        print(\"Es un perro\")\n",
    "    elif respuesta == 0:\n",
    "        print(\"Es un gato\")\n",
    "    else:\n",
    "        print(\"No encontrado\")\n",
    "    "
   ]
  },
  {
   "cell_type": "code",
   "execution_count": 1,
   "id": "19d6c522-c8bf-4693-a6db-697df00eb15c",
   "metadata": {},
   "outputs": [
    {
     "ename": "NameError",
     "evalue": "name 'predecir' is not defined",
     "output_type": "error",
     "traceback": [
      "\u001b[1;31m---------------------------------------------------------------------------\u001b[0m",
      "\u001b[1;31mNameError\u001b[0m                                 Traceback (most recent call last)",
      "\u001b[1;32m<ipython-input-1-2648402b34a1>\u001b[0m in \u001b[0;36m<module>\u001b[1;34m\u001b[0m\n\u001b[1;32m----> 1\u001b[1;33m \u001b[0mpredecir\u001b[0m\u001b[1;33m(\u001b[0m\u001b[1;33m)\u001b[0m\u001b[1;31m#colocal la ruta de la imagen que desea predecir\u001b[0m\u001b[1;33m\u001b[0m\u001b[1;33m\u001b[0m\u001b[0m\n\u001b[0m",
      "\u001b[1;31mNameError\u001b[0m: name 'predecir' is not defined"
     ]
    }
   ],
   "source": [
    "predecir()#colocal la ruta de la imagen que desea predecir"
   ]
  }
 ],
 "metadata": {
  "kernelspec": {
   "display_name": "Python 3",
   "language": "python",
   "name": "python3"
  },
  "language_info": {
   "codemirror_mode": {
    "name": "ipython",
    "version": 3
   },
   "file_extension": ".py",
   "mimetype": "text/x-python",
   "name": "python",
   "nbconvert_exporter": "python",
   "pygments_lexer": "ipython3",
   "version": "3.8.8"
  }
 },
 "nbformat": 4,
 "nbformat_minor": 5
}
